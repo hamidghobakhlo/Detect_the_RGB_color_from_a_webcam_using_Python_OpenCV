{
 "cells": [
  {
   "cell_type": "markdown",
   "id": "c2ae4b7c",
   "metadata": {},
   "source": [
    "### Detect the RGB color from a webcam using Python - OpenCV"
   ]
  },
  {
   "cell_type": "code",
   "execution_count": null,
   "id": "f28424a1",
   "metadata": {},
   "outputs": [],
   "source": [
    "import cv2\n",
    "import numpy as np\n",
    "\n",
    "# taking the input from webcam\n",
    "vid = cv2.VideoCapture(0)\n",
    "\n",
    "# running while loop just to make sure that\n",
    "# our program keeps running until we stop it\n",
    "while True:\n",
    "    # capturing the current frame\n",
    "    _, frame = vid.read()\n",
    "\n",
    "    # displaying the current frame\n",
    "    cv2.imshow(\"frame\", frame)\n",
    "\n",
    "    # setting values for base colors\n",
    "    b = frame[:, :, 0]  # Blue channel\n",
    "    g = frame[:, :, 1]  # Green channel\n",
    "    r = frame[:, :, 2]  # Red channel\n",
    "\n",
    "    # computing the mean\n",
    "    b_mean = np.mean(b)\n",
    "    g_mean = np.mean(g)\n",
    "    r_mean = np.mean(r)\n",
    "\n",
    "    # displaying the most prominent color\n",
    "    if b_mean > g_mean and b_mean > r_mean:\n",
    "        print(\"Blue\")\n",
    "    elif g_mean > r_mean and g_mean > b_mean:\n",
    "        print(\"Green\")\n",
    "    else:\n",
    "        print(\"Red\")\n",
    "\n",
    "    # breaking the loop if 'q' is pressed\n",
    "    if cv2.waitKey(1) & 0xFF == ord('q'):\n",
    "        break\n",
    "\n",
    "# releasing the video capture object and closing all windows\n",
    "vid.release()\n",
    "cv2.destroyAllWindows()"
   ]
  }
 ],
 "metadata": {
  "kernelspec": {
   "display_name": "murph_env",
   "language": "python",
   "name": "python3"
  },
  "language_info": {
   "codemirror_mode": {
    "name": "ipython",
    "version": 3
   },
   "file_extension": ".py",
   "mimetype": "text/x-python",
   "name": "python",
   "nbconvert_exporter": "python",
   "pygments_lexer": "ipython3",
   "version": "3.13.0"
  }
 },
 "nbformat": 4,
 "nbformat_minor": 5
}
